{
 "cells": [
  {
   "cell_type": "markdown",
   "metadata": {
    "id": "zinDXTWYm6bH"
   },
   "source": [
    "[texto del vínculo](https://)"
   ]
  },
  {
   "cell_type": "code",
   "execution_count": null,
   "metadata": {
    "id": "7gz1lUbrs0Cl"
   },
   "outputs": [],
   "source": []
  },
  {
   "cell_type": "markdown",
   "metadata": {
    "id": "d8R3duii-Coj"
   },
   "source": [
    "### Redes neuronales para clasificación de la función XOR\n",
    "\n",
    "---\n",
    "\n",
    "En el problema de XOR (eXclusive OR) buscamos predecir el output de las puertas lógicos que induce XOR; es decir, lo equivalente a la función de desigualdad: La salida es verdadera si las entradas son distintas. Falso de lo contrario. Podemos la función ver en forma de tabla como:\n",
    "\n",
    "![Captura de Pantalla 2021-02-11 a la(s) 22.57.33.png](data:image/png;base64,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)\n",
    "\n",
    "\n",
    "Este problema puede ser visto como un problema de clasificación en el cual se puede aprovechar un modelo de aprendizaje supervisado. Si este problema se aborda desde una perspectiva lineal (es decir, no se aplican funciones de activación no lineales, entonces el problema se vuelve particularmente complicado ya que el problema XOR no es linealmente separable. Ver el anexo)\n",
    "\n",
    "\n",
    "Como solución se plantea el uno de una Multi Layer Perceptron (MLP) considerando dos casos:\n",
    "\n",
    "- Red con una capa oculta\n",
    "- Red con dos capas ocultas\n"
   ]
  },
  {
   "cell_type": "markdown",
   "metadata": {
    "id": "03p-SxtWiZyk"
   },
   "source": [
    "#### 1) Módulos utilizados"
   ]
  },
  {
   "cell_type": "code",
   "execution_count": null,
   "metadata": {
    "id": "B-j0J3hE9kRU"
   },
   "outputs": [],
   "source": [
    "##### importando modulos\n",
    "import pandas as pd\n",
    "import numpy as np\n",
    "import matplotlib.pyplot as plt\n",
    "import tensorflow.compat.v1 as tf\n",
    "tf.disable_v2_behavior()"
   ]
  },
  {
   "cell_type": "markdown",
   "metadata": {
    "id": "7q5EJsWNAqI8"
   },
   "source": [
    "#### 2) Creación de base de datos sintética "
   ]
  },
  {
   "cell_type": "code",
   "execution_count": null,
   "metadata": {
    "id": "-SkzvT3SAohj"
   },
   "outputs": [],
   "source": [
    "#creando nuestros arreglos de información\n",
    "X = np.array( #arreglo de X\n",
    "    [\n",
    "        [1, 1],\n",
    "        [1, 0],\n",
    "        [0, 1],\n",
    "        [0, 0]])\n",
    "Y = np.array( #vector de Y\n",
    "    [\n",
    "        [0],\n",
    "        [1],\n",
    "        [1],\n",
    "        [0]])\n",
    " \n",
    "# Especificando los espacios de memoria para sesión de tensor flow\n",
    "x = tf.placeholder(tf.float32, shape=[4,2])#\n",
    "y = tf.placeholder(tf.float32, shape=[4,1])"
   ]
  },
  {
   "cell_type": "markdown",
   "metadata": {
    "id": "cRdbnGTxjg-Q"
   },
   "source": [
    "### Red con una capa oculta\n",
    "-------\n",
    "\n"
   ]
  },
  {
   "cell_type": "markdown",
   "metadata": {
    "id": "vPAC14ZFikrP"
   },
   "source": [
    "#### 3) Declaración inicial de modelo"
   ]
  },
  {
   "cell_type": "code",
   "execution_count": null,
   "metadata": {
    "id": "cUUfjL6M9lwa"
   },
   "outputs": [],
   "source": [
    " \n",
    "# matriz de W(pesos)\n",
    "W1 = tf.Variable([[1.0, 0.0], [1.0, 0.0]], shape=[2,2])\n",
    "W2 = tf.Variable([[0.0], [1.0]], shape=[2,1])\n",
    " \n",
    "# sesgo(inicializacion)\n",
    "B1 = tf.Variable([0.0, 0.0], shape=[2])\n",
    "B2 = tf.Variable([0.0], shape=1)\n",
    " \n",
    "#capa oculta y capa de salida\n",
    "output =tf.sigmoid(tf.matmul(tf.sigmoid(tf.matmul(x, W1) + B1), W2) + B2)\n",
    " \n",
    "# estimacion del error\n",
    "e = tf.reduce_mean(tf.squared_difference(y, output)) #diferencia cuadrada\n",
    "train = tf.train.GradientDescentOptimizer(0.1).minimize(e) #descenso por gradiente \n",
    " "
   ]
  },
  {
   "cell_type": "markdown",
   "metadata": {
    "id": "Cno7f9csjPC3"
   },
   "source": [
    "#### 4) Ejecución del modelo y epocs"
   ]
  },
  {
   "cell_type": "code",
   "execution_count": null,
   "metadata": {
    "colab": {
     "base_uri": "https://localhost:8080/"
    },
    "id": "OYKpQdzYjRWM",
    "outputId": "44a97893-bf7a-4453-a29f-2769570af654"
   },
   "outputs": [
    {
     "name": "stdout",
     "output_type": "stream",
     "text": [
      "\n",
      "Epoca: 0\n",
      "\n",
      "Error: 0.26442587\n",
      "     [0.6198486]\n",
      "     [0.6200183]\n",
      "     [0.6200183]\n",
      "     [0.62025726]\n",
      "\n",
      "Epoca: 10000\n",
      "\n",
      "Error: 0.0700234\n",
      "     [0.33965564]\n",
      "     [0.7534745]\n",
      "     [0.7534745]\n",
      "     [0.20779318]\n",
      "\n",
      "Epoca: 20000\n",
      "\n",
      "Error: 0.006195537\n",
      "     [0.08856922]\n",
      "     [0.9271755]\n",
      "     [0.9271755]\n",
      "     [0.07956651]\n",
      "\n",
      "Epoca: 30000\n",
      "\n",
      "Error: 0.0028774934\n",
      "     [0.05970755]\n",
      "     [0.9504955]\n",
      "     [0.9504955]\n",
      "     [0.05516872]\n",
      "\n",
      "Epoca: 40000\n",
      "\n",
      "Error: 0.0018379437\n",
      "     [0.04751286]\n",
      "     [0.9604853]\n",
      "     [0.9604853]\n",
      "     [0.04440132]\n",
      "\n",
      "Epoca: 50000\n",
      "\n",
      "Error: 0.0013404149\n",
      "     [0.04047897]\n",
      "     [0.96628344]\n",
      "     [0.96628344]\n",
      "     [0.03807229]\n",
      "\n",
      "Epoca: 60000\n",
      "\n",
      "Error: 0.0010511391\n",
      "     [0.03579015]\n",
      "     [0.97015905]\n",
      "     [0.97015905]\n",
      "     [0.03380322]\n",
      "\n",
      "Epoca: 70000\n",
      "\n",
      "Error: 0.0008627281\n",
      "     [0.03238276]\n",
      "     [0.97297317]\n",
      "     [0.97297317]\n",
      "     [0.03068176]\n",
      "\n",
      "Epoca: 80000\n",
      "\n",
      "Error: 0.0007307594\n",
      "     [0.02977225]\n",
      "     [0.97513145]\n",
      "     [0.97513145]\n",
      "     [0.02828005]\n",
      "\n",
      "Epoca: 90000\n",
      "\n",
      "Error: 0.0006333374\n",
      "     [0.02769697]\n",
      "     [0.976854]\n",
      "     [0.976854]\n",
      "     [0.02635822]\n",
      "\n",
      "Epoca: 100000\n",
      "\n",
      "Error: 0.00055829633\n",
      "     [0.02598697]\n",
      "     [0.97827876]\n",
      "     [0.97827876]\n",
      "     [0.02478382]\n",
      "Entrenamiento listo bro\n"
     ]
    }
   ],
   "source": [
    "init = tf.global_variables_initializer()\n",
    "sesion = tf.Session()\n",
    "sesion.run(init)\n",
    " \n",
    "for i in range (100001):#numero de epocas\n",
    "    error = sesion.run(train, feed_dict={x: X, y: Y})\n",
    "    if i % 10000 == 0:\n",
    "        print('\\nEpoca: ' + str(i))\n",
    "        print('\\nError: ' + str(sesion.run(e, feed_dict={x: X, y: Y})))\n",
    "        for el in sesion.run(output, feed_dict={x: X, y: Y}):\n",
    "            print('    ',el)\n",
    "sesion.close()\n",
    " \n",
    "print (\"Entrenamiento listo bro\")\n"
   ]
  },
  {
   "cell_type": "markdown",
   "metadata": {
    "id": "y7YsN-01jsRb"
   },
   "source": [
    "### Red con dos capa oculta\n",
    "-------\n"
   ]
  },
  {
   "cell_type": "markdown",
   "metadata": {
    "id": "TKf5dIUBjyEa"
   },
   "source": [
    "#### 5) Declaración inicial de modelo"
   ]
  },
  {
   "cell_type": "code",
   "execution_count": null,
   "metadata": {
    "id": "R2ruLsDbcB_y"
   },
   "outputs": [],
   "source": [
    " \n",
    "# matriz de W(pesos)\n",
    "W1 = tf.Variable([[1.0, 0.0], [1.0, 0.0]], shape=[2,2])\n",
    "W2 = tf.Variable([[1.0, 0.0], [1.0, 0.0]], shape=[2,2])\n",
    "W3 = tf.Variable([[0.0], [1.0]], shape=[2,1])\n",
    " \n",
    "# sesgo(inicializacion)\n",
    "B1 = tf.Variable([0.0, 0.0], shape=[2])\n",
    "B2 = tf.Variable([0.0, 0.0], shape=[2])\n",
    "B3 = tf.Variable([0.0], shape=1)\n",
    " \n",
    "#capa oculta y capa de salida\n",
    "output =tf.sigmoid(tf.matmul(tf.sigmoid(tf.matmul(tf.sigmoid(tf.matmul(x, W1) + B1), W2) + B2), W3) + B3)\n",
    " \n",
    "# estimacion del error\n",
    "e = tf.reduce_mean(tf.squared_difference(y, output)) #diferencia cuadrada\n",
    "train = tf.train.GradientDescentOptimizer(0.1).minimize(e) #descenso por gradiente "
   ]
  },
  {
   "cell_type": "markdown",
   "metadata": {
    "id": "OBJzAhaDj6T7"
   },
   "source": [
    "#### 6) Declaración inicial de modelo"
   ]
  },
  {
   "cell_type": "code",
   "execution_count": null,
   "metadata": {
    "colab": {
     "base_uri": "https://localhost:8080/"
    },
    "id": "R19bjlO4j-Tc",
    "outputId": "2534d0c1-6bce-4678-b34c-0bcaaa454185"
   },
   "outputs": [
    {
     "name": "stdout",
     "output_type": "stream",
     "text": [
      "\n",
      "Epoca: 0\n",
      "\n",
      "Error: 0.26436722\n",
      "     [0.6198008]\n",
      "     [0.61983436]\n",
      "     [0.61983436]\n",
      "     [0.61989033]\n",
      "\n",
      "Epoca: 10000\n",
      "\n",
      "Error: 0.238005\n",
      "     [0.53894]\n",
      "     [0.52116394]\n",
      "     [0.52116394]\n",
      "     [0.45055047]\n",
      "\n",
      "Epoca: 20000\n",
      "\n",
      "Error: 0.0062599406\n",
      "     [0.09620571]\n",
      "     [0.9259507]\n",
      "     [0.9259507]\n",
      "     [0.06940913]\n",
      "\n",
      "Epoca: 30000\n",
      "\n",
      "Error: 0.0011713151\n",
      "     [0.04013261]\n",
      "     [0.9683399]\n",
      "     [0.9683399]\n",
      "     [0.03270951]\n",
      "\n",
      "Epoca: 40000\n",
      "\n",
      "Error: 0.0006243718\n",
      "     [0.02904817]\n",
      "     [0.97697055]\n",
      "     [0.97697055]\n",
      "     [0.02435118]\n",
      "\n",
      "Epoca: 50000\n",
      "\n",
      "Error: 0.00042243328\n",
      "     [0.02379024]\n",
      "     [0.98109794]\n",
      "     [0.98109794]\n",
      "     [0.02022824]\n",
      "\n",
      "Epoca: 60000\n",
      "\n",
      "Error: 0.00031825076\n",
      "     [0.02059409]\n",
      "     [0.98361886]\n",
      "     [0.98361886]\n",
      "     [0.01766926]\n",
      "\n",
      "Epoca: 70000\n",
      "\n",
      "Error: 0.0002549142\n",
      "     [0.01839396]\n",
      "     [0.9853544]\n",
      "     [0.9853544]\n",
      "     [0.015885]\n",
      "\n",
      "Epoca: 80000\n",
      "\n",
      "Error: 0.00021243934\n",
      "     [0.01676407]\n",
      "     [0.98663986]\n",
      "     [0.98663986]\n",
      "     [0.01455116]\n",
      "\n",
      "Epoca: 90000\n",
      "\n",
      "Error: 0.00018198144\n",
      "     [0.01550844]\n",
      "     [0.9876516]\n",
      "     [0.9876516]\n",
      "     [0.01350731]\n",
      "\n",
      "Epoca: 100000\n",
      "\n",
      "Error: 0.00015908066\n",
      "     [0.01448113]\n",
      "     [0.9884582]\n",
      "     [0.9884582]\n",
      "     [0.01265678]\n",
      "Entrenamiento listo bro\n"
     ]
    }
   ],
   "source": [
    "init = tf.global_variables_initializer()\n",
    "sesion = tf.Session()\n",
    "sesion.run(init)\n",
    " \n",
    "for i in range (100001):#numero de epocas\n",
    "    error = sesion.run(train, feed_dict={x: X, y: Y})\n",
    "    if i % 10000 == 0:\n",
    "        print('\\nEpoca: ' + str(i))\n",
    "        print('\\nError: ' + str(sesion.run(e, feed_dict={x: X, y: Y})))\n",
    "        for el in sesion.run(output, feed_dict={x: X, y: Y}):\n",
    "            print('    ',el)\n",
    "sesion.close()\n",
    " \n",
    "print (\"Entrenamiento listo bro\")"
   ]
  },
  {
   "cell_type": "markdown",
   "metadata": {
    "id": "FdRyliQHpJbt"
   },
   "source": [
    "### Anexo"
   ]
  },
  {
   "cell_type": "markdown",
   "metadata": {
    "id": "uWzHeTlepnEy"
   },
   "source": [
    "Cuando se intenta resolver el problema de XOR con funciones lineales (ya sea una capa o dos), no se puede resolver:"
   ]
  },
  {
   "cell_type": "code",
   "execution_count": null,
   "metadata": {
    "id": "t8QEUq3SpMj3"
   },
   "outputs": [],
   "source": [
    "# matriz de W(pesos)\n",
    "W1 = tf.Variable([[1.0, 0.0], [1.0, 0.0]], shape=[2,2])\n",
    "W2 = tf.Variable([[0.0], [1.0]], shape=[2,1])\n",
    " \n",
    "# sesgo(inicializacion)\n",
    "B1 = tf.Variable([0.0, 0.0], shape=[2])\n",
    "B2 = tf.Variable([0.0], shape=1)\n",
    " \n",
    "#capa oculta y capa de salida\n",
    "output = tf.matmul(tf.matmul(x, W1) + B1, W2) + B2\n",
    " \n",
    "# estimacion del error\n",
    "e = tf.reduce_mean(tf.squared_difference(y, output)) #diferencia cuadrada\n",
    "train = tf.train.GradientDescentOptimizer(0.1).minimize(e) #descenso por gradiente \n",
    " "
   ]
  },
  {
   "cell_type": "code",
   "execution_count": null,
   "metadata": {
    "colab": {
     "base_uri": "https://localhost:8080/"
    },
    "id": "qj6Mttlypxw_",
    "outputId": "e06eef61-5632-4c89-91cf-4c8b39963f8e"
   },
   "outputs": [
    {
     "name": "stdout",
     "output_type": "stream",
     "text": [
      "\n",
      "Epoca: 0\n",
      "\n",
      "Error: 0.28374997\n",
      "     [0.5]\n",
      "     [0.35]\n",
      "     [0.35]\n",
      "     [0.2]\n",
      "\n",
      "Epoca: 10000\n",
      "\n",
      "Error: 0.25\n",
      "     [0.5]\n",
      "     [0.5]\n",
      "     [0.5]\n",
      "     [0.49999997]\n",
      "\n",
      "Epoca: 20000\n",
      "\n",
      "Error: 0.25\n",
      "     [0.5]\n",
      "     [0.5]\n",
      "     [0.5]\n",
      "     [0.5]\n",
      "\n",
      "Epoca: 30000\n",
      "\n",
      "Error: 0.25\n",
      "     [0.5]\n",
      "     [0.5]\n",
      "     [0.5]\n",
      "     [0.5]\n",
      "\n",
      "Epoca: 40000\n",
      "\n",
      "Error: 0.25\n",
      "     [0.5]\n",
      "     [0.5]\n",
      "     [0.5]\n",
      "     [0.5]\n",
      "\n",
      "Epoca: 50000\n",
      "\n",
      "Error: 0.25\n",
      "     [0.5]\n",
      "     [0.5]\n",
      "     [0.5]\n",
      "     [0.5]\n",
      "\n",
      "Epoca: 60000\n",
      "\n",
      "Error: 0.25\n",
      "     [0.5]\n",
      "     [0.5]\n",
      "     [0.5]\n",
      "     [0.5]\n",
      "\n",
      "Epoca: 70000\n",
      "\n",
      "Error: 0.25\n",
      "     [0.5]\n",
      "     [0.5]\n",
      "     [0.5]\n",
      "     [0.5]\n",
      "\n",
      "Epoca: 80000\n",
      "\n",
      "Error: 0.25\n",
      "     [0.5]\n",
      "     [0.5]\n",
      "     [0.5]\n",
      "     [0.5]\n",
      "\n",
      "Epoca: 90000\n",
      "\n",
      "Error: 0.25\n",
      "     [0.5]\n",
      "     [0.5]\n",
      "     [0.5]\n",
      "     [0.5]\n",
      "\n",
      "Epoca: 100000\n",
      "\n",
      "Error: 0.25\n",
      "     [0.5]\n",
      "     [0.5]\n",
      "     [0.5]\n",
      "     [0.5]\n",
      "Entrenamiento listo bro\n"
     ]
    }
   ],
   "source": [
    "init = tf.global_variables_initializer()\n",
    "sesion = tf.Session()\n",
    "sesion.run(init)\n",
    " \n",
    "for i in range (100001):#numero de epocas\n",
    "    error = sesion.run(train, feed_dict={x: X, y: Y})\n",
    "    if i % 10000 == 0:\n",
    "        print('\\nEpoca:  ' + str(i))\n",
    "        print('\\nError: ' + str(sesion.run(e, feed_dict={x: X, y: Y})))\n",
    "        for el in sesion.run(output, feed_dict={x: X, y: Y}):\n",
    "            print('    ',el)\n",
    "sesion.close()\n",
    " \n",
    "print (\"Entrenamiento listo bro\")"
   ]
  }
 ],
 "metadata": {
  "colab": {
   "collapsed_sections": [],
   "name": "XOR.ipynb",
   "provenance": []
  },
  "kernelspec": {
   "display_name": "Python 3",
   "language": "python",
   "name": "python3"
  },
  "language_info": {
   "codemirror_mode": {
    "name": "ipython",
    "version": 3
   },
   "file_extension": ".py",
   "mimetype": "text/x-python",
   "name": "python",
   "nbconvert_exporter": "python",
   "pygments_lexer": "ipython3",
   "version": "3.8.3"
  }
 },
 "nbformat": 4,
 "nbformat_minor": 4
}
